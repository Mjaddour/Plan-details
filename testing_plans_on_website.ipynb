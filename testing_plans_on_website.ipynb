{
 "cells": [
  {
   "cell_type": "code",
   "execution_count": 57,
   "id": "35971606-9e81-42ca-b2ac-0e345f46fa79",
   "metadata": {},
   "outputs": [],
   "source": [
    "# imports \n",
    "\n",
    "import os\n",
    "import requests\n",
    "from dotenv import load_dotenv\n",
    "from bs4 import BeautifulSoup\n",
    "from IPython.display import Markdown, display\n",
    "from openai import OpenAI"
   ]
  },
  {
   "cell_type": "code",
   "execution_count": 58,
   "id": "49d09eca-4826-4682-831a-0d126da4a3a1",
   "metadata": {},
   "outputs": [
    {
     "name": "stdout",
     "output_type": "stream",
     "text": [
      "API key found and looks good so far!\n"
     ]
    }
   ],
   "source": [
    "load_dotenv()\n",
    "api_key = os.getenv(\"OPENAI_API_KEY\")\n",
    "\n",
    "# Check the key\n",
    "\n",
    "if not api_key:\n",
    "    print(\"No API key was found - please head over to the troubleshooting notebook in this folder to identify & fix!\")\n",
    "elif not api_key.startswith(\"sk-proj-\"):\n",
    "    print(\"An API key was found, but it doesn't start sk-proj-; please check you're using the right key - see troubleshooting notebook\")\n",
    "elif api_key.strip() != api_key:\n",
    "    print(\"An API key was found, but it looks like it might have space or tab characters at the start or end - please remove them - see troubleshooting notebook\")\n",
    "else:\n",
    "    print(\"API key found and looks good so far!\")\n",
    "\n"
   ]
  },
  {
   "cell_type": "code",
   "execution_count": 59,
   "id": "e1168162-93fa-40e3-9f0e-13a9404b8fd2",
   "metadata": {},
   "outputs": [],
   "source": [
    "MODEL = \"llama3.2\""
   ]
  },
  {
   "cell_type": "code",
   "execution_count": 60,
   "id": "24025400-fd91-4b2a-9311-57426e24a7b5",
   "metadata": {},
   "outputs": [],
   "source": [
    "class Website:\n",
    "\n",
    "    def __init__(self, url):\n",
    "        \"\"\"\n",
    "        Create this Website object from the given url using the BeautifulSoup library\n",
    "        \"\"\"\n",
    "        self.url = url\n",
    "        response = requests.get(url)\n",
    "        soup = BeautifulSoup(response.content, 'html.parser')\n",
    "        self.title = soup.title.string if soup.title else \"No title found\"\n",
    "        for irrelevant in soup.body([\"script\", \"style\", \"img\", \"input\"]):\n",
    "            irrelevant.decompose()\n",
    "        self.text = soup.body.get_text(separator=\"\\n\", strip=True)"
   ]
  },
  {
   "cell_type": "code",
   "execution_count": 61,
   "id": "dd0ac874-a0c5-4e98-b491-beaa9873e33f",
   "metadata": {},
   "outputs": [],
   "source": [
    "web = Website(\"https://www.t-mobile.com/cell-phone-plans?INTNAV=tNav%3APlans%3AMagenta\")\n",
    "##print(web.text)"
   ]
  },
  {
   "cell_type": "code",
   "execution_count": 62,
   "id": "3f0589b8-3340-478c-9b4f-a153a01fcf3e",
   "metadata": {},
   "outputs": [],
   "source": [
    "system_prompt = (\n",
    "    \"You are a tool designed to analyze websites and provide detailed information \"\n",
    "    \"about the prices and benefits of each plan mentioned on the site.\"\n",
    ")\n"
   ]
  },
  {
   "cell_type": "code",
   "execution_count": 68,
   "id": "36fc7b70-9aef-4510-8ead-156c1c85a9be",
   "metadata": {},
   "outputs": [],
   "source": [
    "# A function that writes a User Prompt that asks for summaries of websites:\n",
    "\n",
    "def user_prompt_for(website):\n",
    "    user_prompt = f\"You are looking at a website titled {website.title}\"\n",
    "    user_prompt = (\n",
    "            f\"You are looking at a website titled '{website.title}'.\\n\"\n",
    "            \"The contents of this website are as follows:\\n\"\n",
    "            \"Please provide a short summary of this website in markdown format.\\n\"\n",
    "            \"Additionally, if applicable, please include the mobile plans offered (AVOID Puerto Rico plan), their prices with autopay, and the number of lines available.\\n\\n\"\n",
    "            f\"{website.text}\"\n",
    "        )\n",
    "    return user_prompt"
   ]
  },
  {
   "cell_type": "code",
   "execution_count": 69,
   "id": "a4c3dc8d-79d5-41b5-b79f-b3ca6d3e47bc",
   "metadata": {},
   "outputs": [],
   "source": [
    "# See how this function creates exactly the format above\n",
    "def messages_for(website):\n",
    "    return [\n",
    "        { \"role\": \"system\", \"content\": system_prompt},\n",
    "        { \"role\": \"user\", \"content\": user_prompt_for(website)}\n",
    "    ]"
   ]
  },
  {
   "cell_type": "code",
   "execution_count": 70,
   "id": "55d5a6e6-b632-46e0-809c-f6f8810a132e",
   "metadata": {},
   "outputs": [],
   "source": [
    "# And now: call the OpenAI API. You will get very familiar with this!\n",
    "\n",
    "def mobilePlans(url):\n",
    "    website = Website(url)\n",
    "    response = ollama.chat(\n",
    "        model = \"llama3.2\",\n",
    "        messages = messages_for(website)\n",
    "    )\n",
    "    return response['message']['content']"
   ]
  },
  {
   "cell_type": "code",
   "execution_count": 71,
   "id": "c2486f6a-c502-4c45-9116-e31021143c91",
   "metadata": {},
   "outputs": [],
   "source": [
    "# A function to display this nicely in the Jupyter output, using markdown\n",
    "\n",
    "def displayMobilePlans(url):\n",
    "    # Generate the combined summary for both websites\n",
    "    combined_summary = summarize(url)\n",
    "    \n",
    "    # Display the combined summary in Markdown format\n",
    "    display(Markdown(combined_summary))\n",
    "    "
   ]
  },
  {
   "cell_type": "code",
   "execution_count": 73,
   "id": "a69f37bf-98b9-443b-ab88-51b7a033c6aa",
   "metadata": {},
   "outputs": [
    {
     "data": {
      "text/markdown": [
       "# Summary of \"Our Best Unlimited Data Cell Phone Plans: Compare Go5G Plan Deals\"\n",
       "\n",
       "The T-Mobile website provides a comprehensive overview of various unlimited data cell phone plans, highlighting the competitive pricing and benefits compared to other carriers like AT&T and Verizon. The plans are designed for both new and existing customers, with specific offerings for families, military members, veterans, and seniors. Key features include unlimited talk, text, and data, with additional perks like streaming services and device upgrade options. All plans are contract-free, ensuring flexibility for users.\n",
       "\n",
       "## Mobile Plans Offered (Excluding Puerto Rico Plan)\n",
       "\n",
       "### 1. **Essentials Saver**\n",
       "- **1 Line:** $55/month \n",
       "- **2 Lines:** $90/month \n",
       "- **3 Lines:** $115/month \n",
       "- **4 Lines:** - \n",
       "- **5 Lines:** - \n",
       "\n",
       "### 2. **Go5G Next**\n",
       "- **1 Line:** $105/month \n",
       "- **2 Lines:** $180/month \n",
       "- **3 Lines:** $230/month \n",
       "- **4 Lines:** $280/month \n",
       "- **5 Lines:** $330/month \n",
       "- **6-8 Lines:** $50/line \n",
       "- **9-12 Lines:** $55/line \n",
       "\n",
       "### 3. **Go5G Next First Responder**\n",
       "- **1 Line:** $90/month \n",
       "- **2 Lines:** $140/month \n",
       "- **3 Lines:** $180/month \n",
       "- **4 Lines:** $220/month \n",
       "- **5 Lines:** $260/month \n",
       "- **6 Lines:** $300/month \n",
       "- **7-12 Lines:** $50/line \n",
       "\n",
       "### 4. **Go5G Next Military**\n",
       "- **1 Line:** $90/month \n",
       "- **2 Lines:** $140/month \n",
       "- **3 Lines:** $180/month \n",
       "- **4 Lines:** $220/month \n",
       "- **5 Lines:** $260/month \n",
       "- **6 Lines:** $300/month \n",
       "- **7-12 Lines:** $50/line \n",
       "\n",
       "### 5. **Go5G Next 55**\n",
       "- **1 Line:** $90/month \n",
       "- **2 Lines:** $140/month \n",
       "- **3 Lines:** $210/month \n",
       "- **4 Lines:** $280/month \n",
       "\n",
       "### 6. **Magenta MAX**\n",
       "- **1 Line:** $90/month \n",
       "- **2 Lines:** $150/month \n",
       "- **3 Lines:** $185/month \n",
       "- **4 Lines:** $220/month \n",
       "- **5 Lines:** $255/month \n",
       "- **6-8 Lines:** $35/line \n",
       "- **9-12 Lines:** $40/line \n",
       "\n",
       "### 7. **Magenta MAX Military**\n",
       "- **1 Line:** $75/month \n",
       "- **2 Lines:** $110/month \n",
       "- **3 Lines:** $135/month \n",
       "- **4 Lines:** $160/month \n",
       "- **5 Lines:** $185/month \n",
       "- **6 Lines:** $210/month \n",
       "\n",
       "### 8. **Magenta 55+**\n",
       "- **1 Line:** $70/month \n",
       "- **2 Lines:** $100/month \n",
       "- **3 Lines:** $150/month \n",
       "- **4 Lines:** $200/month \n",
       "\n",
       "### 9. **Magenta First Responder**\n",
       "- **1 Line:** $60/month \n",
       "- **2 Lines:** $90/month \n",
       "- **3 Lines:** $105/month \n",
       "- **4 Lines:** $120/month \n",
       "- **5 Lines:** $135/month \n",
       "\n",
       "### 10. **Essentials 55+**\n",
       "- **1 Line:** $45/month \n",
       "- **2 Lines:** $65/month \n",
       "\n",
       "### 11. **Go5G Plus**\n",
       "- **1 Line:** $95/month \n",
       "- **2 Lines:** $160/month \n",
       "- **3 Lines:** $200/month \n",
       "- **4 Lines:** $240/month \n",
       "\n",
       "### 12. **Go5G Plus Military**\n",
       "- **1 Line:** $80/month \n",
       "- **2 Lines:** $120/month \n",
       "- **3 Lines:** $150/month \n",
       "- **4 Lines:** $180/month \n",
       "\n",
       "Each plan typically includes unlimited data, 50GB to 100GB of premium data, specific streaming perks, and is free from annual contracts. Additional fees and terms apply, which include a device connection charge of $35/line and variable local surcharges."
      ],
      "text/plain": [
       "<IPython.core.display.Markdown object>"
      ]
     },
     "metadata": {},
     "output_type": "display_data"
    }
   ],
   "source": [
    "displayMobilePlans(\"https://www.t-mobile.com/cell-phone-plans?INTNAV=tNav%3APlans%3AMagenta\")"
   ]
  },
  {
   "cell_type": "code",
   "execution_count": null,
   "id": "fd437494-dcbd-43a8-a1d5-ed72a4168639",
   "metadata": {},
   "outputs": [],
   "source": []
  }
 ],
 "metadata": {
  "kernelspec": {
   "display_name": "Python 3 (ipykernel)",
   "language": "python",
   "name": "python3"
  },
  "language_info": {
   "codemirror_mode": {
    "name": "ipython",
    "version": 3
   },
   "file_extension": ".py",
   "mimetype": "text/x-python",
   "name": "python",
   "nbconvert_exporter": "python",
   "pygments_lexer": "ipython3",
   "version": "3.11.10"
  }
 },
 "nbformat": 4,
 "nbformat_minor": 5
}
